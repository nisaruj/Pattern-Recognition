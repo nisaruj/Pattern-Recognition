{
  "nbformat": 4,
  "nbformat_minor": 0,
  "metadata": {
    "colab": {
      "name": "Pattern_HW2.ipynb",
      "provenance": [],
      "collapsed_sections": [
        "NguJHmq-kNI9",
        "XOPvNGc0WWG-",
        "EkY07rzZytSv",
        "O2MFZRIo_CBs",
        "UK8aT1nfMRAH"
      ]
    },
    "kernelspec": {
      "name": "python3",
      "display_name": "Python 3"
    }
  },
  "cells": [
    {
      "cell_type": "markdown",
      "metadata": {
        "id": "NguJHmq-kNI9",
        "colab_type": "text"
      },
      "source": [
        "# Simple Bayes Classifier"
      ]
    },
    {
      "cell_type": "markdown",
      "metadata": {
        "id": "3d4rADmfkUGY",
        "colab_type": "text"
      },
      "source": [
        "P(x|w1) = N(5,2)<br/>\n",
        "P(x|w2) = N(0,2)"
      ]
    },
    {
      "cell_type": "code",
      "metadata": {
        "id": "Fyl7ooaykHxN",
        "colab_type": "code",
        "colab": {}
      },
      "source": [
        "import matplotlib.pyplot as plt\n",
        "import math\n",
        "import numpy as np\n",
        "import scipy.stats as stats\n",
        "\n",
        "def plot_normal(avg, var, prior=0.5, label=None):\n",
        "  sigma = math.sqrt(var)\n",
        "  x = np.linspace(avg - 3*sigma, avg + 3*sigma, 100)\n",
        "  plt.plot(x, stats.norm.pdf(x, avg, sigma) * prior, label=label)\n",
        "  \n",
        "def draw_boundary(x):\n",
        "  plt.axvline(x = x, linestyle = '--', c = 'r', label='x = %.2f' % x)\n",
        "\n",
        "# T2\n",
        "plot_normal(5, 2, label='Happy cat')\n",
        "plot_normal(0, 2, label='Sad cat')\n",
        "draw_boundary(2.5)\n",
        "plt.legend()\n",
        "plt.show()"
      ],
      "execution_count": 0,
      "outputs": []
    },
    {
      "cell_type": "code",
      "metadata": {
        "id": "oiw8Wt-wZ31O",
        "colab_type": "code",
        "colab": {}
      },
      "source": [
        "# T3\n",
        "plot_normal(5, 2, label='Happy cat', prior=0.8)\n",
        "plot_normal(0, 2, label='Sad cat', prior=0.2)\n",
        "draw_boundary(1.9455)\n",
        "plt.legend()\n",
        "plt.show()"
      ],
      "execution_count": 0,
      "outputs": []
    },
    {
      "cell_type": "code",
      "metadata": {
        "id": "tigilwclePe-",
        "colab_type": "code",
        "colab": {}
      },
      "source": [
        "# OT2.2\n",
        "plot_normal(5, 2, label='Happy cat')\n",
        "plot_normal(0, 4, label='Sad cat')\n",
        "draw_boundary(2.7355)\n",
        "plt.legend()\n",
        "plt.show()"
      ],
      "execution_count": 0,
      "outputs": []
    },
    {
      "cell_type": "markdown",
      "metadata": {
        "id": "mnu77hh3fy-h",
        "colab_type": "text"
      },
      "source": [
        "# Employee Attrition Prediction"
      ]
    },
    {
      "cell_type": "markdown",
      "metadata": {
        "id": "Fm13EMmkgZo-",
        "colab_type": "text"
      },
      "source": [
        "Firstly, load the dataset, convert the yes and no in this data table to 1 and 0. Then, we have to convert each categorical feature to number."
      ]
    },
    {
      "cell_type": "code",
      "metadata": {
        "id": "c49iZQE6f3qm",
        "colab_type": "code",
        "colab": {}
      },
      "source": [
        "import pandas as pd\n",
        "data_url = \"https://raw.github.com/ekapolc/pattern_2019/master/HW/HW2/hr-employee-attrition-with-null.csv\"\n",
        "all = pd.read_csv(data_url)\n",
        "\n",
        "cat_cols = ('BusinessTravel', 'Department', 'EducationField', \n",
        "            'Gender', 'JobRole', 'MaritalStatus', 'Over18', 'OverTime')\n",
        "\n",
        "all.loc[all[\"Attrition\"] == \"No\", \"Attrition\"] = 0.0\n",
        "all.loc[all[\"Attrition\"] == \"Yes\", \"Attrition\"] = 1.0\n",
        "for col in cat_cols:\n",
        "  all[col] = pd.Categorical(all[col]).codes # NaN will be converted to -1!\n",
        "all = all.drop(columns = \"EmployeeNumber\")"
      ],
      "execution_count": 0,
      "outputs": []
    },
    {
      "cell_type": "markdown",
      "metadata": {
        "id": "CcmVHEALqywB",
        "colab_type": "text"
      },
      "source": [
        "We'll split the dataset to 90% `train_set` and 10% `test_set`"
      ]
    },
    {
      "cell_type": "code",
      "metadata": {
        "id": "WRy8CQz9g8HR",
        "colab_type": "code",
        "colab": {}
      },
      "source": [
        "TESTSET_RATIO = 0.1\n",
        "\n",
        "def default_split_data(): \n",
        "  no_attr_size = len(all[all['Attrition'] == 0].index)\n",
        "  yes_attr_size = len(all[all['Attrition'] == 1].index)\n",
        "  test_size_no = int(TESTSET_RATIO * no_attr_size)\n",
        "  test_size_yes =  int(TESTSET_RATIO * yes_attr_size)\n",
        "\n",
        "  test_no = all[all['Attrition'] == 0].tail(test_size_no)\n",
        "  test_yes = all[all['Attrition'] == 1].tail(test_size_yes)\n",
        "  train_no = all[all['Attrition'] == 0].head(no_attr_size - test_size_no)\n",
        "  train_yes = all[all['Attrition'] == 1].head(yes_attr_size - test_size_yes)\n",
        "\n",
        "  test_set = pd.concat((test_no, test_yes))\n",
        "  train_set = pd.concat((train_no, train_yes))\n",
        "  return train_set, test_set\n",
        "\n",
        "train_set, test_set = default_split_data()"
      ],
      "execution_count": 0,
      "outputs": []
    },
    {
      "cell_type": "markdown",
      "metadata": {
        "id": "N3OGdar23T3N",
        "colab_type": "text"
      },
      "source": [
        "## Histogram discretization"
      ]
    },
    {
      "cell_type": "markdown",
      "metadata": {
        "id": "i1AaPkky3hfh",
        "colab_type": "text"
      },
      "source": [
        "To do histogram estimation, we divide the entire data space into a finite number of bins. Then, we count how many data points are there in each bin and normalize using the total number of data points (so that the probability sums to 1)."
      ]
    },
    {
      "cell_type": "code",
      "metadata": {
        "id": "orxaUpcb3X__",
        "colab_type": "code",
        "colab": {}
      },
      "source": [
        "import matplotlib.pyplot as plt\n",
        "import numpy as np\n",
        "\n",
        "def plot_hist(col, BIN_COUNT = 40, count_zbin = True):\n",
        "  # remove NaN values\n",
        "  train_col_no_nan = train_set[~np.isnan(train_set[col])][col]\n",
        "\n",
        "  '''\n",
        "    bin the data into 40 equally spaced bins\n",
        "    hist is the count for each bin\n",
        "    bin_edge is the edge values of the bins\n",
        "  '''\n",
        "  \n",
        "  hist, bin_edge = np.histogram(train_col_no_nan, BIN_COUNT)\n",
        "\n",
        "  # plot the histogram \n",
        "  plt.fill_between(bin_edge.repeat(2)[1:-1],hist.repeat(2),facecolor='steelblue')\n",
        "  plt.show()\n",
        "  \n",
        "  if count_zbin:\n",
        "    print('Number of bins with zero count:', len(list(filter(lambda e: e == 0, hist))))\n",
        "\n",
        "# T4\n",
        "plot_hist('Age')\n",
        "plot_hist('MonthlyIncome')\n",
        "plot_hist('DistanceFromHome')"
      ],
      "execution_count": 0,
      "outputs": []
    },
    {
      "cell_type": "code",
      "metadata": {
        "id": "BxsywH6EnaDn",
        "colab_type": "code",
        "colab": {}
      },
      "source": [
        "def build_hist(train_set, col, BIN_COUNT = 10, condition = {}, plt = None):\n",
        "  train_col_no_nan = np.array(train_set[~np.isnan(train_set[col]) & np.not_equal(train_set[col], -1)][col])\n",
        "  if condition:\n",
        "    if 'given' in condition:\n",
        "      given_col, col_cond = condition['given']\n",
        "      filtered_train_set = train_set[train_set[given_col] == col_cond]\n",
        "      train_col_no_nan = np.array(train_set[np.equal(train_set[given_col], col_cond) & ~np.isnan(train_set[col]) & np.not_equal(train_set[col], -1)][col])\n",
        "  \n",
        "  hist, bins = np.histogram(train_col_no_nan, BIN_COUNT)\n",
        "  idx = np.digitize(train_col_no_nan, [float('-inf')] + list(bins[1:-1]) + [float('inf')])\n",
        "  # print(np.bincount(idx))\n",
        "  if plt:\n",
        "    try:\n",
        "      condition_text = \"%s=%d\" % (given_col, col_cond) \n",
        "    except:\n",
        "      condition_text = ''\n",
        "    if hasattr(plt.title, 'set_text'):\n",
        "      plt.title.set_text(\"%s, %d bins, %s\" % (col, BIN_COUNT, condition_text))\n",
        "    else:\n",
        "      plt.title(\"%s, %d bins, %s\" % (col, BIN_COUNT, condition_text))\n",
        "    plt.hist(train_col_no_nan, bins)\n",
        "  \n",
        "  bins[0], bins[-1] = float('-inf'), float('inf')\n",
        "  return (bins, np.bincount(idx))\n",
        "\n",
        "def show_hist_col_bin(features, bin_count, figsize = [12, 7], hspace = 0.5):\n",
        "  fig, ax = plt.subplots(nrows=len(features), ncols=len(bin_count), figsize=figsize)\n",
        "  fig.subplots_adjust(hspace = hspace)\n",
        "  for i in range(len(features)):\n",
        "    for j in range(len(bin_count)):\n",
        "      build_hist(train_set, features[i], bin_count[j], plt=ax[i][j])\n",
        "\n",
        "  plt.show()\n",
        "\n",
        "# T6\n",
        "features = ['Age', 'MonthlyIncome', 'DistanceFromHome']\n",
        "bin_count = [10, 40, 100]\n",
        "show_hist_col_bin(features, bin_count)\n"
      ],
      "execution_count": 0,
      "outputs": []
    },
    {
      "cell_type": "code",
      "metadata": {
        "id": "dJ9h4I4U2jfs",
        "colab_type": "code",
        "colab": {}
      },
      "source": [
        "# T7\n",
        "features = ['Age', 'DailyRate', 'DistanceFromHome', 'MonthlyIncome', 'TotalWorkingYears', 'YearsAtCompany', 'YearsInCurrentRole'] #train_set.columns\n",
        "bin_count = [10, 40]\n",
        "show_hist_col_bin(features, bin_count, [16, 20], 0.8)"
      ],
      "execution_count": 0,
      "outputs": []
    },
    {
      "cell_type": "code",
      "metadata": {
        "id": "r01SFAxj_6-W",
        "colab_type": "code",
        "colab": {}
      },
      "source": [
        "# T8\n",
        "features = ['MonthlyIncome', 'JobRole', 'HourlyRate', 'MaritalStatus']\n",
        "fig, ax = plt.subplots(nrows=len(features), ncols=2, figsize=(12, 7,))\n",
        "fig.subplots_adjust(hspace = 0.7)\n",
        "for i in range(len(features)):\n",
        "  for j in range(2):\n",
        "    build_hist(train_set, features[i], 10, {'given': ('Attrition', j)}, ax[i][j])\n",
        "\n",
        "plt.show()"
      ],
      "execution_count": 0,
      "outputs": []
    },
    {
      "cell_type": "code",
      "metadata": {
        "id": "KDaX7xJZa-Rr",
        "colab_type": "code",
        "outputId": "015e52b2-0392-4e5c-bdc8-132cb941f1e8",
        "colab": {
          "base_uri": "https://localhost:8080/",
          "height": 51
        }
      },
      "source": [
        "# T9\n",
        "prior_stay = train_set[train_set['Attrition'] == 0].shape[0] / train_set.shape[0]\n",
        "prior_leave =  train_set[train_set['Attrition'] == 1].shape[0] / train_set.shape[0]\n",
        "print('P(stay) =', prior_stay)\n",
        "print('P(leave) =', prior_leave)"
      ],
      "execution_count": 0,
      "outputs": [
        {
          "output_type": "stream",
          "text": [
            "P(stay) = 0.8383685800604229\n",
            "P(leave) = 0.16163141993957703\n"
          ],
          "name": "stdout"
        }
      ]
    },
    {
      "cell_type": "markdown",
      "metadata": {
        "id": "YQksZbg3gHQZ",
        "colab_type": "text"
      },
      "source": [
        "Building the learned distribution."
      ]
    },
    {
      "cell_type": "code",
      "metadata": {
        "id": "y8GAffBbcHlD",
        "colab_type": "code",
        "colab": {}
      },
      "source": [
        "from functools import reduce\n",
        "\n",
        "def train_discrete_model(features, bin_count = 10, train_set = None):\n",
        "  if train_set is not pd.DataFrame:\n",
        "    train_set = default_split_data()[0]\n",
        "  return reduce(lambda ac, feature: \n",
        "             ac.update({ \n",
        "                 (feature, 0): build_hist(train_set, feature, bin_count, {'given': ('Attrition', 0) }),\n",
        "                 (feature, 1): build_hist(train_set, feature, bin_count, {'given': ('Attrition', 1) })\n",
        "             }) or ac, features, {})\n",
        "\n",
        "model = train_discrete_model(['Age', 'MonthlyIncome', 'DistanceFromHome'])"
      ],
      "execution_count": 0,
      "outputs": []
    },
    {
      "cell_type": "markdown",
      "metadata": {
        "id": "BKYMqhq1GNht",
        "colab_type": "text"
      },
      "source": [
        "Build a naive bayes classifier"
      ]
    },
    {
      "cell_type": "code",
      "metadata": {
        "id": "BUvJQjABgGDM",
        "colab_type": "code",
        "outputId": "b115db76-7dab-4052-ee59-79c8b52394c6",
        "colab": {
          "base_uri": "https://localhost:8080/",
          "height": 34
        }
      },
      "source": [
        "from math import log\n",
        "\n",
        "def find_bin_prob(data, feature, attrition, model):\n",
        "  bins, bin_count = model[(feature, attrition)]\n",
        "  if np.isnan(data[feature]):\n",
        "    return 1\n",
        "  prob = bin_count[np.digitize(data[feature], bins)] / sum(bin_count)\n",
        "  return prob if prob > 0 else 1\n",
        "\n",
        "def discrete_classify(data, features, model):\n",
        "  s = 0\n",
        "  for feature in features:\n",
        "    s += log(find_bin_prob(data, feature, 1, model)) - log(find_bin_prob(data, feature, 0, model))\n",
        "  return log(prior_leave) - log(prior_stay) + s\n",
        "\n",
        "discrete_classify({ 'Age': 22.1 }, ['Age'], model)"
      ],
      "execution_count": 0,
      "outputs": [
        {
          "output_type": "execute_result",
          "data": {
            "text/plain": [
              "-0.25435236704291864"
            ]
          },
          "metadata": {
            "tags": []
          },
          "execution_count": 12
        }
      ]
    },
    {
      "cell_type": "markdown",
      "metadata": {
        "id": "rM8Iunx7InES",
        "colab_type": "text"
      },
      "source": [
        "Test the model and report precision, recall and F score."
      ]
    },
    {
      "cell_type": "code",
      "metadata": {
        "id": "LgfNn5aiIFVF",
        "colab_type": "code",
        "colab": {}
      },
      "source": [
        "def test_result(result, showTable = True):\n",
        "  try:\n",
        "    precision = result[1][1] / (result[1][1] + result[0][1])\n",
        "  except ZeroDivisionError:\n",
        "    precision = float('inf')\n",
        "  recall = result[1][1] / (result[1][1] + result[1][0])\n",
        "  try:\n",
        "    fscore = 2 * precision * recall / (precision + recall)\n",
        "  except ZeroDivisionError:\n",
        "    fscore = float('nan')\n",
        "  falseAlarm = result[0][1] / (result[0][1] + result[0][0])\n",
        "  \n",
        "  if showTable:\n",
        "    print('             +--------------+-------------+')\n",
        "    print('             | Detected Yes | Detected No |')\n",
        "    print('+------------+--------------+-------------+')\n",
        "    print('| Actual Yes |    %4d      |    %4d     |' % (result[1][1], result[1][0]))\n",
        "    print('+------------+--------------+-------------+')\n",
        "    print('| Actual No  |    %4d      |    %4d     |' % (result[0][1], result[0][0]))\n",
        "    print('+------------+--------------+-------------+')\n",
        "\n",
        "    print('Precision =', precision)\n",
        "    print('Recall =', recall)\n",
        "    print('F Score =', fscore)\n",
        "    print()\n",
        "  \n",
        "  return { 'precision': precision, 'recall': recall, 'fscore': fscore, 'falseAlarm': falseAlarm }\n",
        "\n",
        "'''\n",
        "Classifier must contain 3 param: data, features and the model\n",
        "'''\n",
        "def test_model(classifier, test_set, features = None, model = None, showResult = True, threshold = 0):\n",
        "  tests = test_set.to_dict(orient='records')\n",
        "  result = [[0, 0], [0, 0]]\n",
        "\n",
        "  for test in tests:\n",
        "    detected = classifier(test, features, model)\n",
        "    actual = test['Attrition']\n",
        "    result[actual][int(detected > threshold)] += 1\n",
        "\n",
        "  return test_result(result, showResult)\n",
        "\n",
        "features = ['Age', 'DailyRate', 'DistanceFromHome', 'MonthlyIncome', 'TotalWorkingYears', 'YearsAtCompany', 'YearsInCurrentRole']\n",
        "model = train_discrete_model(features)\n",
        "test_model(discrete_classify, test_set, features, model)"
      ],
      "execution_count": 0,
      "outputs": []
    },
    {
      "cell_type": "markdown",
      "metadata": {
        "id": "XOPvNGc0WWG-",
        "colab_type": "text"
      },
      "source": [
        "## Probability Density Funciton"
      ]
    },
    {
      "cell_type": "code",
      "metadata": {
        "id": "c7MEbuXzW8JM",
        "colab_type": "code",
        "colab": {}
      },
      "source": [
        "# T12\n",
        "import scipy.stats as stats\n",
        "\n",
        "def find_pdf_arg(train_set, col, attrition):\n",
        "  train_col_no_nan = np.array(train_set[np.equal(train_set['Attrition'], attrition) & ~np.isnan(train_set[col]) & np.not_equal(train_set[col], -1)][col])\n",
        "  return np.mean(train_col_no_nan), np.std(train_col_no_nan)\n",
        "\n",
        "def find_pdf_prob(data, feature, attrition, model):\n",
        "  avg, std = model[(feature, attrition)]\n",
        "  if np.isnan(data[feature]):\n",
        "    return 1\n",
        "  return stats.norm(avg, std).pdf(data[feature])\n",
        "  \n",
        "def train_pdf_model(features):\n",
        "    return reduce(lambda ac, feature: \n",
        "             ac.update({ \n",
        "                 (feature, 0): find_pdf_arg(train_set, feature, 0),\n",
        "                 (feature, 1): find_pdf_arg(train_set, feature, 1)\n",
        "             }) or ac, features, {})\n",
        "  \n",
        "def pdf_classify(data, feature, model):\n",
        "  s = 0\n",
        "  for feature in features:\n",
        "    s += log(find_pdf_prob(data, feature, 1, model)) - log(find_pdf_prob(data, feature, 0, model))\n",
        "  return log(prior_leave) - log(prior_stay) + s\n",
        "  \n",
        "\n",
        "features = ['Age', 'DistanceFromHome', 'MonthlyIncome', 'TotalWorkingYears', 'YearsAtCompany', 'YearsInCurrentRole']\n",
        "model = train_pdf_model(features)\n",
        "test_model(pdf_classify, test_set, features, model)"
      ],
      "execution_count": 0,
      "outputs": []
    },
    {
      "cell_type": "markdown",
      "metadata": {
        "id": "EkY07rzZytSv",
        "colab_type": "text"
      },
      "source": [
        "## Baseline Comparison"
      ]
    },
    {
      "cell_type": "markdown",
      "metadata": {
        "id": "EqjlbYnyzd1K",
        "colab_type": "text"
      },
      "source": [
        "The random choice baseline"
      ]
    },
    {
      "cell_type": "code",
      "metadata": {
        "id": "QclTAXWjy0Pm",
        "colab_type": "code",
        "colab": {}
      },
      "source": [
        "# T13\n",
        "import random\n",
        "def random_baseline(test, feature, model):\n",
        "  return [float('-inf'), float('inf')][random.randint(0, 1)]\n",
        "\n",
        "test_model(random_baseline, test_set)"
      ],
      "execution_count": 0,
      "outputs": []
    },
    {
      "cell_type": "markdown",
      "metadata": {
        "id": "_ZpiHt1E5ICD",
        "colab_type": "text"
      },
      "source": [
        "The majority rule baseline"
      ]
    },
    {
      "cell_type": "code",
      "metadata": {
        "id": "LnPyCwgC5OTH",
        "colab_type": "code",
        "colab": {}
      },
      "source": [
        "# T14\n",
        "MAJORITY_CLASS = 0\n",
        "def majority_rule(test, feature, model):\n",
        "  return [float('-inf'), float('inf')][MAJORITY_CLASS]\n",
        "\n",
        "test_model(majority_rule, test_set)"
      ],
      "execution_count": 0,
      "outputs": []
    },
    {
      "cell_type": "markdown",
      "metadata": {
        "id": "O2MFZRIo_CBs",
        "colab_type": "text"
      },
      "source": [
        "## Threshold Finding"
      ]
    },
    {
      "cell_type": "code",
      "metadata": {
        "id": "YI1L-SzU_Ie4",
        "colab_type": "code",
        "outputId": "fe7e8a3b-359e-4861-a5e0-078fe540b695",
        "colab": {
          "base_uri": "https://localhost:8080/",
          "height": 337
        }
      },
      "source": [
        "from progressbar import progressbar\n",
        "THRESHOLD_RANGE = np.arange(-5, 5, 0.05)\n",
        "\n",
        "features = ['Age', 'DistanceFromHome', 'MonthlyIncome', 'TotalWorkingYears', 'YearsAtCompany', 'YearsInCurrentRole']\n",
        "model = train_pdf_model(features)\n",
        "classifier = pdf_classify\n",
        "precision = []\n",
        "recall = []\n",
        "fscore = []\n",
        "bestScore = (-1, 0, {})\n",
        "for t in progressbar(THRESHOLD_RANGE):\n",
        "  score = test_model(classifier, test_set, features, model, showResult = False, threshold = t)\n",
        "  precision.append(score['precision'])\n",
        "  recall.append(score['recall'])\n",
        "  fscore.append(score['fscore'])\n",
        "  bestScore = max(bestScore, (score['fscore'], t, score))\n",
        "plt.plot(THRESHOLD_RANGE, precision, c='b', label='Precision')\n",
        "plt.plot(THRESHOLD_RANGE, recall, c='r', label='Recall')\n",
        "plt.plot(THRESHOLD_RANGE, fscore, c='g', label='F-score')\n",
        "plt.xlabel('Threshold')\n",
        "plt.ylabel('Accuracy')\n",
        "plt.legend()\n",
        "plt.show()\n",
        "\n",
        "print(bestScore)"
      ],
      "execution_count": 0,
      "outputs": [
        {
          "output_type": "stream",
          "text": [
            "100% (200 of 200) |######################| Elapsed Time: 0:03:27 Time:  0:03:27\n"
          ],
          "name": "stderr"
        },
        {
          "output_type": "display_data",
          "data": {
            "image/png": "[encoded data removed]",
            "text/plain": [
              "<Figure size 432x288 with 1 Axes>"
            ]
          },
          "metadata": {
            "tags": []
          }
        },
        {
          "output_type": "stream",
          "text": [
            "(0.37209302325581395, -0.40000000000001634, {'precision': 0.4, 'recall': 0.34782608695652173, 'fscore': 0.37209302325581395, 'falseAlarm': 0.0975609756097561})\n"
          ],
          "name": "stdout"
        }
      ]
    },
    {
      "cell_type": "markdown",
      "metadata": {
        "id": "UK8aT1nfMRAH",
        "colab_type": "text"
      },
      "source": [
        "## RoC"
      ]
    },
    {
      "cell_type": "code",
      "metadata": {
        "id": "T1HLxK7_MUfb",
        "colab_type": "code",
        "outputId": "d1532582-b900-4bad-88c4-628f79077ffe",
        "colab": {
          "base_uri": "https://localhost:8080/",
          "height": 436
        }
      },
      "source": [
        "from progressbar import progressbar\n",
        "THRESHOLD_RANGE = np.arange(-5, 5, 0.05)\n",
        "\n",
        "features = ['Age', 'DistanceFromHome', 'MonthlyIncome', 'TotalWorkingYears', 'YearsAtCompany', 'YearsInCurrentRole']\n",
        "\n",
        "properties = {\n",
        "    'pdf': {\n",
        "        'model': train_pdf_model(features),\n",
        "        'label': 'pdf',\n",
        "        'color': 'b',\n",
        "        'classifier': pdf_classify\n",
        "    },\n",
        "    'discrete_10': {\n",
        "        'model': train_discrete_model(features),\n",
        "        'label': 'discrete, 10 bins',\n",
        "        'color': 'r',\n",
        "        'classifier': discrete_classify\n",
        "    },\n",
        "    'discrete_5': {\n",
        "        'model': train_discrete_model(features, 5),\n",
        "        'label': 'discrete, 5 bins',\n",
        "        'color': 'g',\n",
        "        'classifier': discrete_classify\n",
        "    }\n",
        "}\n",
        "\n",
        "for model_name in properties:\n",
        "  roc = []\n",
        "  prop = properties[model_name]\n",
        "  print('\\nTesting', model_name)\n",
        "  for t in progressbar(THRESHOLD_RANGE):\n",
        "    score = test_model(prop['classifier'], test_set, features, prop['model'], showResult = False, threshold = t)\n",
        "    roc.append((score['falseAlarm'], score['recall']))\n",
        "\n",
        "  roc.sort()\n",
        "  falseAlarm = [e[0] for e in roc]\n",
        "  recall = [e[1] for e in roc]\n",
        "\n",
        "  plt.plot(falseAlarm, recall, c=prop['color'], label=prop['label'])\n",
        "\n",
        "plt.xlabel('False alarm rate')\n",
        "plt.ylabel('Recall')\n",
        "plt.legend()\n",
        "plt.show()"
      ],
      "execution_count": 0,
      "outputs": [
        {
          "output_type": "stream",
          "text": [
            "\r                                                                               \r\rN/A% (0 of 200) |                        | Elapsed Time: 0:00:00 ETA:  --:--:--"
          ],
          "name": "stderr"
        },
        {
          "output_type": "stream",
          "text": [
            "\n",
            "Testing pdf\n"
          ],
          "name": "stdout"
        },
        {
          "output_type": "stream",
          "text": [
            "100% (200 of 200) |######################| Elapsed Time: 0:03:29 Time:  0:03:29\n",
            "  3% (6 of 200) |                        | Elapsed Time: 0:00:00 ETA:   0:00:05"
          ],
          "name": "stderr"
        },
        {
          "output_type": "stream",
          "text": [
            "\n",
            "Testing discrete_10\n"
          ],
          "name": "stdout"
        },
        {
          "output_type": "stream",
          "text": [
            "100% (200 of 200) |######################| Elapsed Time: 0:00:06 Time:  0:00:06\n",
            "  3% (6 of 200) |                        | Elapsed Time: 0:00:00 ETA:   0:00:05"
          ],
          "name": "stderr"
        },
        {
          "output_type": "stream",
          "text": [
            "\n",
            "Testing discrete_5\n"
          ],
          "name": "stdout"
        },
        {
          "output_type": "stream",
          "text": [
            "100% (200 of 200) |######################| Elapsed Time: 0:00:04 Time:  0:00:04\n"
          ],
          "name": "stderr"
        },
        {
          "output_type": "display_data",
          "data": {
            "image/png": "[encoded data removed]",
            "text/plain": [
              "<Figure size 432x288 with 1 Axes>"
            ]
          },
          "metadata": {
            "tags": []
          }
        }
      ]
    },
    {
      "cell_type": "markdown",
      "metadata": {
        "id": "gSHbfTgMFg59",
        "colab_type": "text"
      },
      "source": [
        "## Classifier Variance"
      ]
    },
    {
      "cell_type": "code",
      "metadata": {
        "id": "LfqQBqRtFmT4",
        "colab_type": "code",
        "outputId": "8d0e24b0-8292-4355-b08e-4f50cb2f0343",
        "colab": {
          "base_uri": "https://localhost:8080/",
          "height": 105
        }
      },
      "source": [
        "def shuffle_data():\n",
        "  new_test_set = pd.concat((all[all['Attrition'] == 0].sample(frac=TESTSET_RATIO),\n",
        "                           all[all['Attrition'] == 1].sample(frac=TESTSET_RATIO)))\n",
        "  new_train_set =pd.concat([all,new_test_set]).drop_duplicates(keep=False)\n",
        "  return new_train_set, new_test_set\n",
        "\n",
        "features = ['Age', 'DistanceFromHome', 'MonthlyIncome', 'TotalWorkingYears', 'YearsAtCompany', 'YearsInCurrentRole']\n",
        "classifier = discrete_classify\n",
        "TEST_COUNT = 10\n",
        "res = []\n",
        "for i in progressbar(range(TEST_COUNT)):\n",
        "  loc_train_set, loc_test_set = shuffle_data()\n",
        "  model = train_discrete_model(features, train_set = loc_train_set)\n",
        "  res.append(test_model(classifier, loc_test_set, features, model, False)['fscore'])\n",
        "print(res)\n",
        "print('F-score Mean =', np.mean(res))\n",
        "print('F-score Variance =', np.var(res))\n"
      ],
      "execution_count": 0,
      "outputs": [
        {
          "output_type": "stream",
          "text": [
            "100% (10 of 10) |########################| Elapsed Time: 0:00:01 Time:  0:00:01\n"
          ],
          "name": "stderr"
        },
        {
          "output_type": "stream",
          "text": [
            "[0.19512195121951217, 0.24390243902439027, 0.2380952380952381, 0.3137254901960785, 0.2608695652173913, 0.3, 0.24489795918367346, 0.4583333333333333, 0.20408163265306126, 0.30434782608695654]\n",
            "F-score Mean = 0.2763375435009635\n",
            "F-score Variance = 0.0051423918674363845\n"
          ],
          "name": "stdout"
        }
      ]
    }
  ]
}